{
 "cells": [
  {
   "cell_type": "code",
   "execution_count": 1,
   "metadata": {},
   "outputs": [],
   "source": [
    "from scenarios_config import get_scenario\n",
    "\n",
    "# Get the modified gravity scenario with exponent 2.03\n",
    "scenario = get_scenario('periastron', '3.1 M, 0.18 M, Elliptical, Single Orbit', \n",
    "                       row_wise=True,\n",
    "                       max_observations_total=100, \n",
    "                       max_observations_per_request=10)\n",
    "\n",
    "# Access the binary simulation object\n",
    "binary_sim = scenario.binary_sim"
   ]
  },
  {
   "cell_type": "code",
   "execution_count": 2,
   "metadata": {},
   "outputs": [
    {
     "name": "stdout",
     "output_type": "stream",
     "text": [
      "You are tasked with solving the following physics problem related to a binary star system. You are provided observations of each star's position over time, (t,x,y,z), in units of seconds and meters.\n",
      "\n",
      "### Problem Description\n",
      "Determine the periastron distance of the binary star system.\n",
      "You must provide your answer in units of m.\n",
      "\n",
      "### Additional Instructions\n",
      "To complete this task, you have access to the following tools and data:\n",
      "1. An observational tool called `Observe` that allows you observe the system at\n",
      "specific times of your choosing.\n",
      "2. A code interpreter that can execute Python code.\n",
      "\n",
      "When using `Observe`:\n",
      "1. The `times_requested` parameter should be a list that can contain any values in the time window [0.0, 2.34e+08] seconds. You cannot request negative times. The upper limit for the time window was chosen to gurantee that the problem is solvable with an appropriate sampling of observations using the total observational budget.\n",
      "2. You can observe the system at any time within the time window, even if it is in the past compared to the last observation.\n",
      "3. You can observe the system up to a total of 100 times and you can observe up to 10 times per observational request which is the maximum length of the `times_requested` list.\n",
      "4. After each observation, the dataframe `row_wise_results.df` will be updated. It contains columns: time, star1_x, star1_y, star1_z, star2_x, star2_y, star2_z. You can access it using the code interpreter tool. For example, to access the first five rows, print(row_wise_results.df.head(n=5))\n",
      "\n",
      "When using the code interpreter:\n",
      "1. Always use print() to display results.\n",
      "2. Do not use read_csv or attempt to load the DataFrame, as it is already pre-loaded.\n",
      "\n",
      "Important reminder: Repeated tool access is enabled until you have found the answer and have submitted it with the `submit_answer` tool.\n"
     ]
    }
   ],
   "source": [
    "print(binary_sim.row_wise_prompt)\n"
   ]
  },
  {
   "cell_type": "code",
   "execution_count": 3,
   "metadata": {},
   "outputs": [
    {
     "name": "stdout",
     "output_type": "stream",
     "text": [
      "\n",
      "Observations added to row_wise_results.df. You have 90 observations remaining in your total budget. \n"
     ]
    },
    {
     "name": "stderr",
     "output_type": "stream",
     "text": [
      "/Users/./Desktop/AST1500/physics-agent-bench/generalscenarios/Binary.py:287: FutureWarning: The behavior of DataFrame concatenation with empty or all-NA entries is deprecated. In a future version, this will no longer exclude empty or all-NA columns when determining the result dtypes. To retain the old behavior, exclude the relevant entries before the concat operation.\n",
      "  self.row_wise_results.df = pd.concat([self.row_wise_results.df, new_rows], ignore_index=True)\n"
     ]
    }
   ],
   "source": [
    "import pandas as pd\n",
    "import matplotlib.pyplot as plt\n",
    "import numpy as np\n",
    "max_time = 2.34e+08\n",
    "initial_times = list(np.linspace(0, max_time, 10))\n",
    "print(binary_sim.observe_row(initial_times, maximum_observations_per_request=10))"
   ]
  },
  {
   "cell_type": "code",
   "execution_count": 4,
   "metadata": {},
   "outputs": [
    {
     "name": "stdout",
     "output_type": "stream",
     "text": [
      "Times (s) and separation distances (m):\n",
      "t=0.00e+00 s, r=1.14e+11 m\n",
      "t=2.60e+07 s, r=9.14e+11 m\n",
      "t=5.20e+07 s, r=1.30e+12 m\n",
      "t=7.80e+07 s, r=1.52e+12 m\n",
      "t=1.04e+08 s, r=1.62e+12 m\n",
      "t=1.30e+08 s, r=1.61e+12 m\n",
      "t=1.56e+08 s, r=1.50e+12 m\n",
      "t=1.82e+08 s, r=1.27e+12 m\n",
      "t=2.08e+08 s, r=8.55e+11 m\n",
      "t=2.34e+08 s, r=1.36e+11 m\n",
      "Separation: 1.14e+11 m at t=0.00e+00 s\n",
      "Separation: 1.36e+11 m at t=2.34e+08 s\n",
      "Separation: 8.55e+11 m at t=2.08e+08 s\n"
     ]
    }
   ],
   "source": [
    "def get_separation(df):\n",
    "    # Calculate separation distance between stars\n",
    "    r = np.sqrt((df['star2_x'] - df['star1_x'])**2 + \n",
    "                (df['star2_y'] - df['star1_y'])**2 + \n",
    "                (df['star2_z'] - df['star1_z'])**2)\n",
    "    return r\n",
    "\n",
    "# Calculate and print separation distances\n",
    "separations = get_separation(binary_sim.row_wise_results.df)\n",
    "print(\"Times (s) and separation distances (m):\")\n",
    "for t, sep in zip(binary_sim.row_wise_results.df['time'], separations):\n",
    "    print(f\"t={t:.2e} s, r={sep:.2e} m\")\n",
    "# Get indices of 3 lowest separations\n",
    "lowest_indices = np.argsort(separations)[:3]\n",
    "\n",
    "# Print the 3 lowest separations and their times\n",
    "for idx in lowest_indices:\n",
    "    sep = separations[idx]\n",
    "    t = binary_sim.row_wise_results.df['time'].iloc[idx]\n",
    "    print(f\"Separation: {sep:.2e} m at t={t:.2e} s\")"
   ]
  },
  {
   "cell_type": "markdown",
   "metadata": {},
   "source": [
    "It looks like the min seperation occurs either around t = 0 or t = 2.34e+08 seconds. I will look in both places."
   ]
  },
  {
   "cell_type": "code",
   "execution_count": 5,
   "metadata": {},
   "outputs": [
    {
     "name": "stdout",
     "output_type": "stream",
     "text": [
      "\n",
      "Observations added to row_wise_results.df. You have 80 observations remaining in your total budget. \n",
      "\n",
      "Observations added to row_wise_results.df. You have 70 observations remaining in your total budget. \n"
     ]
    }
   ],
   "source": [
    "extent = max_time/10\n",
    "times_1 = list(np.linspace(0, extent, 10))\n",
    "times_2 = list(np.linspace(max_time-extent, max_time, 10))\n",
    "print(binary_sim.observe_row(times_1, maximum_observations_per_request=10))\n",
    "print(binary_sim.observe_row(times_2, maximum_observations_per_request=10))"
   ]
  },
  {
   "cell_type": "code",
   "execution_count": 6,
   "metadata": {},
   "outputs": [
    {
     "name": "stdout",
     "output_type": "stream",
     "text": [
      "Separation: 9.39e+10 m at t=2.31e+08 s\n",
      "Separation: 1.14e+11 m at t=0.00e+00 s\n",
      "Separation: 1.14e+11 m at t=0.00e+00 s\n"
     ]
    }
   ],
   "source": [
    "# Calculate and print separation distances\n",
    "separations = get_separation(binary_sim.row_wise_results.df)\n",
    "# Get indices of 3 lowest separations\n",
    "lowest_indices = np.argsort(separations)[:3]\n",
    "\n",
    "# Print the 3 lowest separations and their times\n",
    "for idx in lowest_indices:\n",
    "    sep = separations[idx]\n",
    "    t = binary_sim.row_wise_results.df['time'].iloc[idx]\n",
    "    print(f\"Separation: {sep:.2e} m at t={t:.2e} s\")"
   ]
  },
  {
   "cell_type": "markdown",
   "metadata": {},
   "source": [
    "Now it looks like the lowest seperation is closer to 2.31e+08 seconds. I'll make 10 more observations around there with a smaller time interval."
   ]
  },
  {
   "cell_type": "code",
   "execution_count": 7,
   "metadata": {},
   "outputs": [
    {
     "name": "stdout",
     "output_type": "stream",
     "text": [
      "\n",
      "Observations added to row_wise_results.df. You have 60 observations remaining in your total budget. \n"
     ]
    }
   ],
   "source": [
    "extent = max_time/50\n",
    "times = list(np.linspace(2.31e+08-extent, 2.31e+08+extent, 10))\n",
    "print(binary_sim.observe_row(times, maximum_observations_per_request=10))"
   ]
  },
  {
   "cell_type": "code",
   "execution_count": 8,
   "metadata": {},
   "outputs": [
    {
     "name": "stdout",
     "output_type": "stream",
     "text": [
      "Separation: 6.20e+10 m at t=2.33e+08 s\n",
      "Separation: 8.73e+10 m at t=2.32e+08 s\n",
      "Separation: 9.39e+10 m at t=2.31e+08 s\n"
     ]
    }
   ],
   "source": [
    "# Calculate and print separation distances\n",
    "separations = get_separation(binary_sim.row_wise_results.df)\n",
    "# Get indices of 3 lowest separations\n",
    "lowest_indices = np.argsort(separations)[:3]\n",
    "\n",
    "# Print the 3 lowest separations and their times\n",
    "for idx in lowest_indices:\n",
    "    sep = separations[idx]\n",
    "    t = binary_sim.row_wise_results.df['time'].iloc[idx]\n",
    "    print(f\"Separation: {sep:.2e} m at t={t:.2e} s\")"
   ]
  },
  {
   "cell_type": "markdown",
   "metadata": {},
   "source": [
    "Let's use the rest of my observations around 2.33e+08 seconds."
   ]
  },
  {
   "cell_type": "code",
   "execution_count": 9,
   "metadata": {},
   "outputs": [
    {
     "name": "stdout",
     "output_type": "stream",
     "text": [
      "\n",
      "Observations added to row_wise_results.df. You have 50 observations remaining in your total budget. \n",
      "Note: Some requested times exceeded the maximum time of 233615056.0132853. For these times, None values were inserted for positions.\n",
      "Separation: 6.03e+10 m at t=2.32e+08 s\n",
      "Separation: 6.20e+10 m at t=2.33e+08 s\n",
      "Separation: 8.73e+10 m at t=2.32e+08 s\n"
     ]
    },
    {
     "name": "stderr",
     "output_type": "stream",
     "text": [
      "/Users/./mambaforge/envs/physicsbench/lib/python3.12/site-packages/numpy/core/fromnumeric.py:59: FutureWarning: The behavior of Series.argsort in the presence of NA values is deprecated. In a future version, NA values will be ordered last instead of set to -1.\n",
      "  return bound(*args, **kwds)\n"
     ]
    }
   ],
   "source": [
    "extent = max_time/50\n",
    "times = list(np.linspace(2.33e+08-extent, 2.33e+08+extent, 10))\n",
    "print(binary_sim.observe_row(times, maximum_observations_per_request=10))\n",
    "# Calculate and print separation distances\n",
    "separations = get_separation(binary_sim.row_wise_results.df)\n",
    "# Get indices of 3 lowest separations\n",
    "lowest_indices = np.argsort(separations)[:3]\n",
    "\n",
    "# Print the 3 lowest separations and their times\n",
    "for idx in lowest_indices:\n",
    "    sep = separations[idx]\n",
    "    t = binary_sim.row_wise_results.df['time'].iloc[idx]\n",
    "    print(f\"Separation: {sep:.2e} m at t={t:.2e} s\")"
   ]
  },
  {
   "cell_type": "code",
   "execution_count": 12,
   "metadata": {},
   "outputs": [
    {
     "name": "stdout",
     "output_type": "stream",
     "text": [
      "Min Separation: 6.03e+10 m\n",
      "True Answer: 5.91e+10 m\n",
      "2.14% off from true answer\n"
     ]
    }
   ],
   "source": [
    "min_sep = separations[lowest_indices[0]]\n",
    "print(f\"Min Separation: {min_sep:.2e} m\")\n",
    "print(f\"True Answer: {scenario.true_answer():.2e} m\")\n",
    "print(f\"{np.abs(min_sep - scenario.true_answer())/scenario.true_answer() * 100:.2f}% off from true answer\")"
   ]
  }
 ],
 "metadata": {
  "kernelspec": {
   "display_name": "physicsbench",
   "language": "python",
   "name": "python3"
  },
  "language_info": {
   "codemirror_mode": {
    "name": "ipython",
    "version": 3
   },
   "file_extension": ".py",
   "mimetype": "text/x-python",
   "name": "python",
   "nbconvert_exporter": "python",
   "pygments_lexer": "ipython3",
   "version": "3.12.3"
  }
 },
 "nbformat": 4,
 "nbformat_minor": 2
}
